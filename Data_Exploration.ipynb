{
 "cells": [
  {
   "cell_type": "markdown",
   "metadata": {},
   "source": [
    "# Loading libraries"
   ]
  },
  {
   "cell_type": "code",
   "execution_count": 369,
   "metadata": {
    "collapsed": true
   },
   "outputs": [],
   "source": [
    "import pandas as pd\n",
    "import numpy as np\n",
    "from math import radians, cos, sin, asin, sqrt, atan2\n",
    "from datetime import datetime\n",
    "import matplotlib.pyplot as plt\n",
    "import seaborn as sns\n",
    "\n",
    "from geopy.geocoders import Nominatim\n",
    "geolocator = Nominatim()\n",
    "\n",
    "# models build\n",
    "import xgboost as xgb\n",
    "\n",
    "from sklearn.metrics import roc_auc_score, accuracy_score\n",
    "from sklearn.metrics import average_precision_score\n",
    "from sklearn.metrics import precision_recall_curve\n",
    "from sklearn.metrics import mean_absolute_error, mean_squared_error, log_loss\n",
    "from sklearn.model_selection import GridSearchCV, cross_val_score, train_test_split, StratifiedKFold\n",
    "from sklearn.decomposition import PCA\n",
    "from sklearn import preprocessing\n",
    "from sklearn import linear_model\n",
    "from sklearn import cluster\n",
    "\n",
    "# sys libs\n",
    "from os import listdir\n",
    "from os.path import isfile, join\n",
    "import gc\n",
    "\n",
    "# params/options tuning\n",
    "pd.options.display.max_columns = 200\n",
    "get_ipython().magic('matplotlib inline')\n",
    "fig_size = plt.rcParams[\"figure.figsize\"]\n",
    "fig_size[0] = 16\n",
    "fig_size[1] = 16\n",
    "\n",
    "# source and target\n",
    "path_in = '/mnt/data/raw/'\n",
    "path_out = '/mnt/data/'"
   ]
  },
  {
   "cell_type": "markdown",
   "metadata": {},
   "source": [
    "# Load data"
   ]
  },
  {
   "cell_type": "code",
   "execution_count": 6,
   "metadata": {
    "collapsed": true
   },
   "outputs": [],
   "source": [
    "orders_drivers = pd.read_csv(path_in + 'orders_drivers.csv')\n",
    "\n",
    "orders_drivers['order_datetime'] = pd.to_datetime(orders_drivers['order_datetime'], format = '%Y-%m-%d %H:%M:%S')\n",
    "orders_drivers['rider_ftp_date_key'] = pd.to_datetime(orders_drivers['rider_ftp_date_key'], format = '%Y-%m-%d')\n",
    "orders_drivers['driver_ftp_date_key'] = pd.to_datetime(orders_drivers['driver_ftp_date_key'], format = '%Y-%m-%d')"
   ]
  },
  {
   "cell_type": "code",
   "execution_count": null,
   "metadata": {
    "collapsed": true
   },
   "outputs": [],
   "source": []
  },
  {
   "cell_type": "markdown",
   "metadata": {},
   "source": [
    "# Data markup"
   ]
  },
  {
   "cell_type": "code",
   "execution_count": 27,
   "metadata": {
    "collapsed": true
   },
   "outputs": [],
   "source": [
    "orders_drivers_work = orders_drivers.copy()"
   ]
  },
  {
   "cell_type": "code",
   "execution_count": 28,
   "metadata": {},
   "outputs": [
    {
     "data": {
      "text/html": [
       "<div>\n",
       "<style>\n",
       "    .dataframe thead tr:only-child th {\n",
       "        text-align: right;\n",
       "    }\n",
       "\n",
       "    .dataframe thead th {\n",
       "        text-align: left;\n",
       "    }\n",
       "\n",
       "    .dataframe tbody tr th {\n",
       "        vertical-align: top;\n",
       "    }\n",
       "</style>\n",
       "<table border=\"1\" class=\"dataframe\">\n",
       "  <thead>\n",
       "    <tr style=\"text-align: right;\">\n",
       "      <th></th>\n",
       "      <th>order_gk</th>\n",
       "      <th>order_datetime</th>\n",
       "      <th>driver_gk</th>\n",
       "      <th>order_status</th>\n",
       "      <th>class_type</th>\n",
       "      <th>rider_total_cost</th>\n",
       "      <th>paid_with_prepaid</th>\n",
       "      <th>payment_type</th>\n",
       "      <th>ride_type</th>\n",
       "      <th>m_ride_duration</th>\n",
       "      <th>ride_distance_key</th>\n",
       "      <th>m_driver_wait_time</th>\n",
       "      <th>m_rating</th>\n",
       "      <th>rider_ftp_date_key</th>\n",
       "      <th>rider_main_device_desc</th>\n",
       "      <th>driver_ftp_date_key</th>\n",
       "      <th>driver_device_platform</th>\n",
       "      <th>total_loyalty_points</th>\n",
       "      <th>acquisition_channel_desc</th>\n",
       "      <th>action_before</th>\n",
       "      <th>previous_action_delta</th>\n",
       "      <th>churn_flag</th>\n",
       "    </tr>\n",
       "  </thead>\n",
       "  <tbody>\n",
       "    <tr>\n",
       "      <th>972724</th>\n",
       "      <td>475212</td>\n",
       "      <td>2017-09-01 09:58:30</td>\n",
       "      <td>0</td>\n",
       "      <td>Completed</td>\n",
       "      <td>Premium</td>\n",
       "      <td>740.68</td>\n",
       "      <td>NaN</td>\n",
       "      <td>Cash</td>\n",
       "      <td>private</td>\n",
       "      <td>1469.0</td>\n",
       "      <td>9.9</td>\n",
       "      <td>116.0</td>\n",
       "      <td>NaN</td>\n",
       "      <td>2017-02-21</td>\n",
       "      <td>iOS</td>\n",
       "      <td>2016-03-17</td>\n",
       "      <td>Android</td>\n",
       "      <td>1840</td>\n",
       "      <td>MOBILE</td>\n",
       "      <td>NaT</td>\n",
       "      <td>NaT</td>\n",
       "      <td>0</td>\n",
       "    </tr>\n",
       "    <tr>\n",
       "      <th>972715</th>\n",
       "      <td>825677</td>\n",
       "      <td>2017-09-01 15:44:59</td>\n",
       "      <td>0</td>\n",
       "      <td>Completed</td>\n",
       "      <td>Premium</td>\n",
       "      <td>523.17</td>\n",
       "      <td>NaN</td>\n",
       "      <td>Credit_card</td>\n",
       "      <td>private</td>\n",
       "      <td>1027.0</td>\n",
       "      <td>6.2</td>\n",
       "      <td>122.0</td>\n",
       "      <td>5.0</td>\n",
       "      <td>2015-09-02</td>\n",
       "      <td>iOS</td>\n",
       "      <td>2016-03-17</td>\n",
       "      <td>Android</td>\n",
       "      <td>6045</td>\n",
       "      <td>NaN</td>\n",
       "      <td>2017-09-01 09:58:30</td>\n",
       "      <td>05:46:29</td>\n",
       "      <td>0</td>\n",
       "    </tr>\n",
       "  </tbody>\n",
       "</table>\n",
       "</div>"
      ],
      "text/plain": [
       "        order_gk      order_datetime  driver_gk order_status class_type  \\\n",
       "972724    475212 2017-09-01 09:58:30          0    Completed    Premium   \n",
       "972715    825677 2017-09-01 15:44:59          0    Completed    Premium   \n",
       "\n",
       "        rider_total_cost  paid_with_prepaid payment_type ride_type  \\\n",
       "972724            740.68                NaN         Cash   private   \n",
       "972715            523.17                NaN  Credit_card   private   \n",
       "\n",
       "        m_ride_duration  ride_distance_key  m_driver_wait_time  m_rating  \\\n",
       "972724           1469.0                9.9               116.0       NaN   \n",
       "972715           1027.0                6.2               122.0       5.0   \n",
       "\n",
       "       rider_ftp_date_key rider_main_device_desc driver_ftp_date_key  \\\n",
       "972724         2017-02-21                    iOS          2016-03-17   \n",
       "972715         2015-09-02                    iOS          2016-03-17   \n",
       "\n",
       "       driver_device_platform  total_loyalty_points acquisition_channel_desc  \\\n",
       "972724                Android                  1840                   MOBILE   \n",
       "972715                Android                  6045                      NaN   \n",
       "\n",
       "             action_before previous_action_delta  churn_flag  \n",
       "972724                 NaT                   NaT           0  \n",
       "972715 2017-09-01 09:58:30              05:46:29           0  "
      ]
     },
     "execution_count": 28,
     "metadata": {},
     "output_type": "execute_result"
    }
   ],
   "source": [
    "orders_drivers_work.head(2)"
   ]
  },
  {
   "cell_type": "code",
   "execution_count": 8,
   "metadata": {
    "collapsed": true
   },
   "outputs": [],
   "source": [
    "orders_drivers_work.sort_values(by=['driver_gk', 'order_datetime'], inplace=True)"
   ]
  },
  {
   "cell_type": "code",
   "execution_count": 9,
   "metadata": {
    "collapsed": true
   },
   "outputs": [],
   "source": [
    "orders_drivers_work['action_before'] = orders_drivers_work.groupby('driver_gk')['order_datetime'].shift(1)"
   ]
  },
  {
   "cell_type": "code",
   "execution_count": 10,
   "metadata": {
    "collapsed": true
   },
   "outputs": [],
   "source": [
    "orders_drivers_work['previous_action_delta'] = orders_drivers_work['order_datetime'] - orders_drivers_work['action_before']"
   ]
  },
  {
   "cell_type": "code",
   "execution_count": null,
   "metadata": {
    "collapsed": true
   },
   "outputs": [],
   "source": []
  },
  {
   "cell_type": "code",
   "execution_count": 64,
   "metadata": {
    "collapsed": true
   },
   "outputs": [],
   "source": [
    "orders_drivers_work['action_after'] = orders_drivers_work.groupby('driver_gk')['order_datetime'].shift(-1)\n",
    "orders_drivers_work['next_action_delta'] = orders_drivers_work['action_after'] - orders_drivers_work['order_datetime']"
   ]
  },
  {
   "cell_type": "code",
   "execution_count": 66,
   "metadata": {},
   "outputs": [
    {
     "data": {
      "text/plain": [
       "count                    494591\n",
       "mean     0 days 08:16:50.075549\n",
       "std      0 days 15:06:30.120460\n",
       "min             0 days 01:00:01\n",
       "25%             0 days 01:28:59\n",
       "50%             0 days 02:35:28\n",
       "75%      0 days 10:07:32.500000\n",
       "max            13 days 21:23:03\n",
       "Name: next_action_delta, dtype: object"
      ]
     },
     "execution_count": 66,
     "metadata": {},
     "output_type": "execute_result"
    }
   ],
   "source": [
    "orders_drivers_work[(orders_drivers_work['next_action_delta'] > pd.to_timedelta('0 days 01:00:00')) &\\\n",
    "               (orders_drivers_work['next_action_delta'] < pd.to_timedelta('14 days 00:00:00'))]['next_action_delta'].describe()"
   ]
  },
  {
   "cell_type": "code",
   "execution_count": 68,
   "metadata": {
    "collapsed": true
   },
   "outputs": [],
   "source": [
    "churn_flag = lambda x: 1 if x > pd.to_timedelta('0 days 08:00:00') else 0\n",
    "\n",
    "orders_drivers_work['churn_flag_fix'] = orders_drivers_work['next_action_delta'].apply(churn_flag)"
   ]
  },
  {
   "cell_type": "code",
   "execution_count": null,
   "metadata": {
    "collapsed": true
   },
   "outputs": [],
   "source": []
  },
  {
   "cell_type": "code",
   "execution_count": 29,
   "metadata": {},
   "outputs": [
    {
     "data": {
      "text/plain": [
       "count                    494591\n",
       "mean     0 days 08:16:50.075549\n",
       "std      0 days 15:06:30.120460\n",
       "min             0 days 01:00:01\n",
       "25%             0 days 01:28:59\n",
       "50%             0 days 02:35:28\n",
       "75%      0 days 10:07:32.500000\n",
       "max            13 days 21:23:03\n",
       "Name: previous_action_delta, dtype: object"
      ]
     },
     "execution_count": 29,
     "metadata": {},
     "output_type": "execute_result"
    }
   ],
   "source": [
    "orders_drivers_work[(orders_drivers_work['previous_action_delta'] > pd.to_timedelta('0 days 01:00:00')) &\\\n",
    "               (orders_drivers_work['previous_action_delta'] < pd.to_timedelta('14 days 00:00:00'))]['previous_action_delta'].describe()"
   ]
  },
  {
   "cell_type": "code",
   "execution_count": 12,
   "metadata": {
    "collapsed": true
   },
   "outputs": [],
   "source": [
    "churn_flag = lambda x: 1 if x > pd.to_timedelta('0 days 08:00:00') else 0\n",
    "\n",
    "orders_drivers_work['churn_flag'] = orders_drivers_work['previous_action_delta'].apply(churn_flag)"
   ]
  },
  {
   "cell_type": "code",
   "execution_count": null,
   "metadata": {
    "collapsed": true
   },
   "outputs": [],
   "source": []
  },
  {
   "cell_type": "code",
   "execution_count": 16,
   "metadata": {},
   "outputs": [
    {
     "data": {
      "text/plain": [
       "count                   1123011\n",
       "mean     0 days 00:57:43.317270\n",
       "std      0 days 01:20:35.112117\n",
       "min             0 days 00:00:00\n",
       "25%             0 days 00:00:13\n",
       "50%             0 days 00:32:40\n",
       "75%             0 days 01:15:01\n",
       "max             0 days 08:00:00\n",
       "Name: previous_action_delta, dtype: object"
      ]
     },
     "execution_count": 16,
     "metadata": {},
     "output_type": "execute_result"
    }
   ],
   "source": [
    "orders_drivers_work[orders_drivers_work['churn_flag'] == 0]['previous_action_delta'].describe()"
   ]
  },
  {
   "cell_type": "code",
   "execution_count": null,
   "metadata": {
    "collapsed": true
   },
   "outputs": [],
   "source": []
  },
  {
   "cell_type": "code",
   "execution_count": 17,
   "metadata": {},
   "outputs": [
    {
     "data": {
      "text/plain": [
       "Index(['order_gk', 'order_datetime', 'driver_gk', 'order_status', 'class_type',\n",
       "       'rider_total_cost', 'paid_with_prepaid', 'payment_type', 'ride_type',\n",
       "       'm_ride_duration', 'ride_distance_key', 'm_driver_wait_time',\n",
       "       'm_rating', 'rider_ftp_date_key', 'rider_main_device_desc',\n",
       "       'driver_ftp_date_key', 'driver_device_platform', 'total_loyalty_points',\n",
       "       'acquisition_channel_desc', 'action_before', 'previous_action_delta',\n",
       "       'churn_flag'],\n",
       "      dtype='object')"
      ]
     },
     "execution_count": 17,
     "metadata": {},
     "output_type": "execute_result"
    }
   ],
   "source": [
    "orders_drivers_work.columns"
   ]
  },
  {
   "cell_type": "code",
   "execution_count": 19,
   "metadata": {},
   "outputs": [
    {
     "name": "stdout",
     "output_type": "stream",
     "text": [
      "CPU times: user 7min 27s, sys: 540 ms, total: 7min 28s\n",
      "Wall time: 7min 28s\n"
     ]
    }
   ],
   "source": [
    "%%time\n",
    "# Разметка сессий\n",
    "\n",
    "session_id = 0\n",
    "sessions_list = []\n",
    "\n",
    "for index in range(len(orders_drivers_work)):\n",
    "    new_line = {}\n",
    "    row = orders_drivers_work.iloc[index]\n",
    "    \n",
    "    new_line['order_gk'] = row['order_gk']\n",
    "    new_line['driver_gk'] = row['driver_gk']\n",
    "    new_line['order_datetime'] = row['order_datetime']\n",
    "    new_line['previous_action_delta'] = row['previous_action_delta'] \n",
    "    \n",
    "    if row['previous_action_delta'] <= pd.to_timedelta('0 days 08:00:00'):\n",
    "        session_id = session_id\n",
    "    elif row['previous_action_delta'] > pd.to_timedelta('0 days 08:00:00'):\n",
    "        session_id += 1\n",
    "    else:\n",
    "        session_id = 0\n",
    "    \n",
    "    new_line['session_id'] = session_id\n",
    "    \n",
    "    sessions_list.append(new_line)\n",
    "    \n",
    "#sessions = pd.DataFrame( sessions_list, columns=['driver_gk', 'order_datetime', 'order_gk', 'previous_action_delta', 'session_id'])\n",
    "\n",
    "#sessions.to_csv(path_in + 'sessions.csv', sep=',', index=False)"
   ]
  },
  {
   "cell_type": "code",
   "execution_count": 21,
   "metadata": {
    "collapsed": true
   },
   "outputs": [],
   "source": [
    "sessions = pd.DataFrame( sessions_list, columns=['driver_gk', 'order_datetime', 'order_gk', 'previous_action_delta', 'session_id'])"
   ]
  },
  {
   "cell_type": "code",
   "execution_count": 32,
   "metadata": {
    "collapsed": true
   },
   "outputs": [],
   "source": [
    "orders_drivers_work = orders_drivers_work.merge(sessions[['order_gk', 'session_id']],\\\n",
    "                                                how='inner',\\\n",
    "                                                on=['order_gk'])"
   ]
  },
  {
   "cell_type": "code",
   "execution_count": null,
   "metadata": {
    "collapsed": true
   },
   "outputs": [],
   "source": []
  },
  {
   "cell_type": "markdown",
   "metadata": {},
   "source": [
    "# create dataset"
   ]
  },
  {
   "cell_type": "code",
   "execution_count": 330,
   "metadata": {},
   "outputs": [
    {
     "data": {
      "text/plain": [
       "Index(['order_gk', 'order_datetime', 'driver_gk', 'order_status', 'class_type',\n",
       "       'rider_total_cost', 'paid_with_prepaid', 'payment_type', 'ride_type',\n",
       "       'm_ride_duration', 'ride_distance_key', 'm_driver_wait_time',\n",
       "       'm_rating', 'rider_ftp_date_key', 'rider_main_device_desc',\n",
       "       'driver_ftp_date_key', 'driver_device_platform', 'total_loyalty_points',\n",
       "       'acquisition_channel_desc', 'action_before', 'previous_action_delta',\n",
       "       'churn_flag', 'session_id', 'session_total_rank',\n",
       "       'session_completed_rank', 'session_cancelled_rank',\n",
       "       'session_rejected_rank', 'action_after', 'next_action_delta',\n",
       "       'churn_flag_fix', 'class_type_code', 'ride_type_code',\n",
       "       'order_status_code', 'payment_type_code',\n",
       "       'acquisition_channel_desc_code', 'mean_reject', 'order_day_of_week',\n",
       "       'order_hour', 'total_value', 'total_ride_duration', 'mean_value_reject',\n",
       "       'total_value_bigger', 'session_time_length', 'mean_session_time_length',\n",
       "       'mean_session_time_length_bigger'],\n",
       "      dtype='object')"
      ]
     },
     "execution_count": 330,
     "metadata": {},
     "output_type": "execute_result"
    }
   ],
   "source": [
    "orders_drivers_work.columns"
   ]
  },
  {
   "cell_type": "code",
   "execution_count": 36,
   "metadata": {},
   "outputs": [
    {
     "data": {
      "text/plain": [
       "array(['Completed', 'Cancelled', 'Rejected'], dtype=object)"
      ]
     },
     "execution_count": 36,
     "metadata": {},
     "output_type": "execute_result"
    }
   ],
   "source": [
    "orders_drivers_work['order_status'].unique()"
   ]
  },
  {
   "cell_type": "code",
   "execution_count": null,
   "metadata": {
    "collapsed": true
   },
   "outputs": [],
   "source": []
  },
  {
   "cell_type": "code",
   "execution_count": 38,
   "metadata": {},
   "outputs": [
    {
     "name": "stdout",
     "output_type": "stream",
     "text": [
      "1\n",
      "2\n",
      "3\n",
      "CPU times: user 2.61 s, sys: 156 ms, total: 2.77 s\n",
      "Wall time: 2.76 s\n"
     ]
    }
   ],
   "source": [
    "%%time\n",
    "orders_drivers_work['for_total_sum'] = 1\n",
    "\n",
    "orders_drivers_work['for_completed_sum'] = 1\n",
    "orders_drivers_work['for_completed_sum'] = orders_drivers_work['order_status'].apply(lambda x: 1 if x == 'Completed' else 0)\n",
    "\n",
    "orders_drivers_work['for_cancelled_sum'] = 1\n",
    "orders_drivers_work['for_cancelled_sum'] = orders_drivers_work['order_status'].apply(lambda x: 1 if x == 'Cancelled' else 0)\n",
    "\n",
    "orders_drivers_work['for_rejected_sum'] = 1\n",
    "orders_drivers_work['for_rejected_sum'] = orders_drivers_work['order_status'].apply(lambda x: 1 if x == 'Rejected' else 0)\n",
    "\n",
    "orders_drivers_work['session_total_rank'] = orders_drivers_work.groupby(['driver_gk', 'session_id'])['for_total_sum'].cumsum()\n",
    "orders_drivers_work['session_completed_rank'] = orders_drivers_work.groupby(['driver_gk', 'session_id'])['for_completed_sum'].cumsum()\n",
    "orders_drivers_work['session_cancelled_rank'] = orders_drivers_work.groupby(['driver_gk', 'session_id'])['for_cancelled_sum'].cumsum()\n",
    "orders_drivers_work['session_rejected_rank'] = orders_drivers_work.groupby(['driver_gk', 'session_id'])['for_rejected_sum'].cumsum()\n",
    "\n",
    "del orders_drivers_work['for_total_sum']\n",
    "del orders_drivers_work['for_completed_sum']\n",
    "del orders_drivers_work['for_cancelled_sum']\n",
    "del orders_drivers_work['for_rejected_sum']\n",
    "\n",
    "gc.collect()"
   ]
  },
  {
   "cell_type": "code",
   "execution_count": null,
   "metadata": {
    "collapsed": true
   },
   "outputs": [],
   "source": []
  },
  {
   "cell_type": "code",
   "execution_count": 150,
   "metadata": {
    "collapsed": true
   },
   "outputs": [],
   "source": [
    "orders_drivers_work['class_type'] = pd.Categorical(orders_drivers_work.loc[orders_drivers_work.index, 'class_type'])\n",
    "orders_drivers_work['class_type_code'] = orders_drivers_work['class_type'].cat.codes\n",
    "\n",
    "orders_drivers_work['ride_type'] = pd.Categorical(orders_drivers_work.loc[orders_drivers_work.index, 'ride_type'])\n",
    "orders_drivers_work['ride_type_code'] = orders_drivers_work['ride_type'].cat.codes\n",
    "\n",
    "orders_drivers_work['order_status'] = pd.Categorical(orders_drivers_work.loc[orders_drivers_work.index, 'order_status'])\n",
    "orders_drivers_work['order_status_code'] = orders_drivers_work['order_status'].cat.codes\n",
    "\n",
    "orders_drivers_work['payment_type'] = pd.Categorical(orders_drivers_work.loc[orders_drivers_work.index, 'payment_type'])\n",
    "orders_drivers_work['payment_type_code'] = orders_drivers_work['payment_type'].cat.codes\n",
    "\n",
    "orders_drivers_work['acquisition_channel_desc'] = pd.Categorical(orders_drivers_work.loc[orders_drivers_work.index, 'acquisition_channel_desc'])\n",
    "orders_drivers_work['acquisition_channel_desc_code'] = orders_drivers_work['acquisition_channel_desc'].cat.codes"
   ]
  },
  {
   "cell_type": "code",
   "execution_count": null,
   "metadata": {
    "collapsed": true
   },
   "outputs": [],
   "source": []
  },
  {
   "cell_type": "code",
   "execution_count": 211,
   "metadata": {
    "collapsed": true
   },
   "outputs": [],
   "source": [
    "# Парсинг дат\n",
    "orders_drivers_work['order_day_of_week'] = orders_drivers_work['order_datetime'].dt.dayofweek\n",
    "orders_drivers_work['order_hour'] = orders_drivers_work['order_datetime'].dt.hour"
   ]
  },
  {
   "cell_type": "code",
   "execution_count": 238,
   "metadata": {
    "collapsed": true
   },
   "outputs": [],
   "source": [
    "orders_drivers_work['total_value'] = orders_drivers_work.groupby(['driver_gk', 'session_id'])['rider_total_cost'].cumsum()\n",
    "orders_drivers_work['total_ride_duration'] = orders_drivers_work.groupby(['driver_gk', 'session_id'])['m_ride_duration'].cumsum()"
   ]
  },
  {
   "cell_type": "code",
   "execution_count": null,
   "metadata": {
    "collapsed": true
   },
   "outputs": [],
   "source": []
  },
  {
   "cell_type": "code",
   "execution_count": 275,
   "metadata": {
    "collapsed": true
   },
   "outputs": [],
   "source": [
    "window_split = '2017-09-23 00:00:00'\n",
    "\n",
    "train_dataset = orders_drivers_work[(orders_drivers_work['order_datetime'] < window_split) &\\\n",
    "                                    (orders_drivers_work['driver_gk'] != 2561)].copy()"
   ]
  },
  {
   "cell_type": "code",
   "execution_count": 248,
   "metadata": {
    "collapsed": true
   },
   "outputs": [],
   "source": [
    "temp = pd.DataFrame(train_dataset[train_dataset['churn_flag_fix'] == 1].groupby('driver_gk')['total_value'].mean())\\\n",
    "         .rename(columns={'total_value': 'mean_value_reject'})\n",
    "temp.reset_index(inplace=True)\n",
    "\n",
    "orders_drivers_work= orders_drivers_work.merge(temp, how='left', on='driver_gk')\n",
    "orders_drivers_work.loc[orders_drivers_work[orders_drivers_work['mean_value_reject'].isnull()].index, 'mean_value_reject'] = \\\n",
    "    train_dataset[train_dataset['churn_flag_fix'] == 1]['total_value'].mean()\n",
    "\n",
    "is_bigger = lambda row: 1 if row[0] < row[1] else 0\n",
    "orders_drivers_work['total_value_bigger'] = orders_drivers_work[['total_value', 'mean_value_reject']].apply(is_bigger, axis=1)"
   ]
  },
  {
   "cell_type": "code",
   "execution_count": null,
   "metadata": {
    "collapsed": true
   },
   "outputs": [],
   "source": []
  },
  {
   "cell_type": "code",
   "execution_count": 290,
   "metadata": {
    "collapsed": true,
    "scrolled": true
   },
   "outputs": [],
   "source": [
    "train_dataset = orders_drivers_work[orders_drivers_work['driver_gk'] != 2561].copy()\n",
    "\n",
    "temp = train_dataset.groupby(['driver_gk', 'session_id'])['order_datetime'].agg(['min', 'max'])\n",
    "temp['diff'] = temp['max'] - temp['min']\n",
    "temp['session_time_length'] = round(temp['diff'].dt.total_seconds()/3600, 2)"
   ]
  },
  {
   "cell_type": "code",
   "execution_count": 293,
   "metadata": {
    "collapsed": true
   },
   "outputs": [],
   "source": [
    "orders_drivers_work= orders_drivers_work.merge(temp, how='left', left_on=['driver_gk', 'session_id'], right_index = True)\n",
    "\n",
    "del orders_drivers_work['min']\n",
    "del orders_drivers_work['max']\n",
    "del orders_drivers_work['diff']"
   ]
  },
  {
   "cell_type": "code",
   "execution_count": 298,
   "metadata": {
    "collapsed": true
   },
   "outputs": [],
   "source": [
    "window_split = '2017-09-23 00:00:00'\n",
    "\n",
    "train_dataset = orders_drivers_work[(orders_drivers_work['order_datetime'] < window_split) &\\\n",
    "                                    (orders_drivers_work['driver_gk'] != 2561)].copy()\n",
    "\n",
    "temp = pd.DataFrame(train_dataset[train_dataset['churn_flag_fix'] == 1].groupby('driver_gk')['session_time_length'].mean())\\\n",
    "         .rename(columns={'session_time_length': 'mean_session_time_length'})\n",
    "temp.reset_index(inplace=True)\n",
    "\n",
    "orders_drivers_work= orders_drivers_work.merge(temp, how='left', on='driver_gk')\n",
    "orders_drivers_work.loc[orders_drivers_work[orders_drivers_work['mean_session_time_length'].isnull()].index, 'mean_session_time_length'] = \\\n",
    "    train_dataset[train_dataset['churn_flag_fix'] == 1]['session_time_length'].mean()\n",
    "\n",
    "is_bigger = lambda row: 1 if row[0] < row[1] else 0\n",
    "orders_drivers_work['mean_session_time_length_bigger'] = orders_drivers_work[['session_time_length', 'mean_session_time_length']].apply(is_bigger, axis=1)"
   ]
  },
  {
   "cell_type": "code",
   "execution_count": null,
   "metadata": {
    "collapsed": true
   },
   "outputs": [],
   "source": []
  },
  {
   "cell_type": "code",
   "execution_count": 331,
   "metadata": {
    "collapsed": true
   },
   "outputs": [],
   "source": [
    "window_split = '2017-09-23 00:00:00'\n",
    "\n",
    "train_dataset = orders_drivers_work[(orders_drivers_work['order_datetime'] < window_split) &\\\n",
    "                                    (orders_drivers_work['driver_gk'] != 2561)].copy()"
   ]
  },
  {
   "cell_type": "code",
   "execution_count": null,
   "metadata": {
    "collapsed": true
   },
   "outputs": [],
   "source": [
    "temp = pd.DataFrame(train_dataset[train_dataset['churn_flag_fix'] == 1].groupby('driver_gk')['total_value'].mean())\\\n",
    "         .rename(columns={'total_value': 'mean_value_reject'})\n",
    "temp.reset_index(inplace=True)\n",
    "\n",
    "orders_drivers_work= orders_drivers_work.merge(temp, how='left', on='driver_gk')\n",
    "orders_drivers_work.loc[orders_drivers_work[orders_drivers_work['mean_value_reject'].isnull()].index, 'mean_value_reject'] = \\\n",
    "    train_dataset[train_dataset['churn_flag_fix'] == 1]['total_value'].mean()\n",
    "\n",
    "is_bigger = lambda row: 1 if row[0] < row[1] else 0\n",
    "orders_drivers_work['total_value_bigger'] = orders_drivers_work[['total_value', 'mean_value_reject']].apply(is_bigger, axis=1)"
   ]
  },
  {
   "cell_type": "code",
   "execution_count": null,
   "metadata": {
    "collapsed": true
   },
   "outputs": [],
   "source": []
  },
  {
   "cell_type": "code",
   "execution_count": null,
   "metadata": {
    "collapsed": true
   },
   "outputs": [],
   "source": [
    "window_split = '2017-09-23 00:00:00'\n",
    "\n",
    "train_dataset = orders_drivers_work[(orders_drivers_work['order_datetime'] < window_split) &\\\n",
    "                                    (orders_drivers_work['driver_gk'] != 2561)].copy()\n",
    "\n",
    "temp = pd.DataFrame(train_dataset.groupby('driver_gk')['churn_flag_fix'].mean())\\\n",
    "         .rename(columns={'churn_flag_fix': 'mean_reject'})\n",
    "temp.reset_index(inplace=True)\n",
    "orders_drivers_work= orders_drivers_work.merge(temp, how='left', on='driver_gk')"
   ]
  },
  {
   "cell_type": "code",
   "execution_count": null,
   "metadata": {
    "collapsed": true
   },
   "outputs": [],
   "source": []
  },
  {
   "cell_type": "code",
   "execution_count": 332,
   "metadata": {
    "collapsed": true
   },
   "outputs": [],
   "source": [
    "orders_drivers_work['session_completion_rate'] = orders_drivers_work['session_completed_rank']/orders_drivers_work['session_total_rank']"
   ]
  },
  {
   "cell_type": "code",
   "execution_count": null,
   "metadata": {
    "collapsed": true
   },
   "outputs": [],
   "source": []
  },
  {
   "cell_type": "code",
   "execution_count": null,
   "metadata": {
    "collapsed": true
   },
   "outputs": [],
   "source": [
    "temp = orders_drivers_work[orders_drivers_work['churn_flag_fix'] == 1]]"
   ]
  },
  {
   "cell_type": "code",
   "execution_count": 340,
   "metadata": {
    "collapsed": true
   },
   "outputs": [],
   "source": [
    "orders_drivers_work['rides_per_1_GH'] = orders_drivers_work['session_time_length']/orders_drivers_work['session_completed_rank']"
   ]
  },
  {
   "cell_type": "code",
   "execution_count": null,
   "metadata": {
    "collapsed": true
   },
   "outputs": [],
   "source": []
  },
  {
   "cell_type": "code",
   "execution_count": 352,
   "metadata": {},
   "outputs": [
    {
     "data": {
      "text/plain": [
       "count    140286.000000\n",
       "mean          7.308896\n",
       "std           6.964341\n",
       "min           0.000000\n",
       "25%           2.100000\n",
       "50%           6.350000\n",
       "75%          10.700000\n",
       "max         220.490000\n",
       "Name: session_time_length, dtype: float64"
      ]
     },
     "execution_count": 352,
     "metadata": {},
     "output_type": "execute_result"
    }
   ],
   "source": [
    "orders_drivers_work[orders_drivers_work['churn_flag_fix'] == 1]['session_time_length'].describe()"
   ]
  },
  {
   "cell_type": "code",
   "execution_count": 361,
   "metadata": {},
   "outputs": [
    {
     "data": {
      "text/plain": [
       "Rejected     191392\n",
       "Cancelled    136306\n",
       "Completed         0\n",
       "Name: order_status, dtype: int64"
      ]
     },
     "execution_count": 361,
     "metadata": {},
     "output_type": "execute_result"
    }
   ],
   "source": [
    "orders_drivers_work[orders_drivers_work['driver_gk']== 2561]['order_status'].value_counts()"
   ]
  },
  {
   "cell_type": "code",
   "execution_count": null,
   "metadata": {
    "collapsed": true
   },
   "outputs": [],
   "source": []
  },
  {
   "cell_type": "code",
   "execution_count": 360,
   "metadata": {},
   "outputs": [
    {
     "data": {
      "text/plain": [
       "count    7460.000000\n",
       "mean        8.494128\n",
       "std         3.215912\n",
       "min         2.015385\n",
       "25%         6.419083\n",
       "50%         7.886978\n",
       "75%         9.697000\n",
       "max        22.940000\n",
       "Name: session_time_length, dtype: float64"
      ]
     },
     "execution_count": 360,
     "metadata": {},
     "output_type": "execute_result"
    }
   ],
   "source": [
    "orders_drivers_work[(orders_drivers_work['churn_flag_fix'] == 1) &\\\n",
    "                                     (orders_drivers_work['session_time_length'] < 24) &\\\n",
    "                                     (orders_drivers_work['session_time_length'] > 1)]\\\n",
    "                    .groupby('driver_gk')['session_time_length'].mean().describe()"
   ]
  },
  {
   "cell_type": "code",
   "execution_count": 357,
   "metadata": {},
   "outputs": [
    {
     "data": {
      "text/plain": [
       "<matplotlib.text.Text at 0x7f23f70e8630>"
      ]
     },
     "execution_count": 357,
     "metadata": {},
     "output_type": "execute_result"
    },
    {
     "name": "stderr",
     "output_type": "stream",
     "text": [
      "/opt/anaconda3/lib/python3.5/site-packages/matplotlib/font_manager.py:1297: UserWarning: findfont: Font family ['sans-serif'] not found. Falling back to DejaVu Sans\n",
      "  (prop.get_family(), self.defaultFamily[fontext]))\n"
     ]
    },
    {
     "data": {
      "image/png": "[encoded data removed]",
      "text/plain": [
       "<matplotlib.figure.Figure at 0x7f23f70d0e10>"
      ]
     },
     "metadata": {},
     "output_type": "display_data"
    }
   ],
   "source": [
    "s_DriverOffers = orders_drivers_work[(orders_drivers_work['churn_flag_fix'] == 1) &\\\n",
    "                                     (orders_drivers_work['session_time_length'] < 24) &\\\n",
    "                                     (orders_drivers_work['session_time_length'] > 1)]['session_time_length']\n",
    "H_DriverOffers, Bins_DriverOffers = np.histogram(s_DriverOffers, 24)\n",
    "\n",
    "fig, ax = plt.subplots(figsize=(20,10))\n",
    "ax.bar(Bins_DriverOffers[:-1], H_DriverOffers, width=0.7 * (Bins_DriverOffers[1] - Bins_DriverOffers[0]))\n",
    "plt.title(\"Sessions time length distribution\")"
   ]
  },
  {
   "cell_type": "code",
   "execution_count": 358,
   "metadata": {},
   "outputs": [
    {
     "data": {
      "text/plain": [
       "<matplotlib.text.Text at 0x7f23f702ce48>"
      ]
     },
     "execution_count": 358,
     "metadata": {},
     "output_type": "execute_result"
    },
    {
     "name": "stderr",
     "output_type": "stream",
     "text": [
      "/opt/anaconda3/lib/python3.5/site-packages/matplotlib/font_manager.py:1297: UserWarning: findfont: Font family ['sans-serif'] not found. Falling back to DejaVu Sans\n",
      "  (prop.get_family(), self.defaultFamily[fontext]))\n"
     ]
    },
    {
     "data": {
      "image/png": "[encoded data removed]",
      "text/plain": [
       "<matplotlib.figure.Figure at 0x7f24012e1048>"
      ]
     },
     "metadata": {},
     "output_type": "display_data"
    }
   ],
   "source": [
    "s_DriverOffers = orders_drivers_work[(orders_drivers_work['churn_flag_fix'] == 1) &\\\n",
    "                                     (orders_drivers_work['session_time_length'] < 24) &\\\n",
    "                                     (orders_drivers_work['session_time_length'] > 1)]\\\n",
    "                                    .groupby('driver_gk')['session_time_length'].mean()\n",
    "H_DriverOffers, Bins_DriverOffers = np.histogram(s_DriverOffers, 24)\n",
    "\n",
    "fig, ax = plt.subplots(figsize=(20,10))\n",
    "ax.bar(Bins_DriverOffers[:-1], H_DriverOffers, width=0.7 * (Bins_DriverOffers[1] - Bins_DriverOffers[0]))\n",
    "plt.title(\"Sessions time length distribution per driver\")"
   ]
  },
  {
   "cell_type": "code",
   "execution_count": null,
   "metadata": {
    "collapsed": true
   },
   "outputs": [],
   "source": []
  },
  {
   "cell_type": "code",
   "execution_count": null,
   "metadata": {
    "collapsed": true
   },
   "outputs": [],
   "source": []
  },
  {
   "cell_type": "code",
   "execution_count": 345,
   "metadata": {},
   "outputs": [
    {
     "data": {
      "text/plain": [
       "count    8.026550e+05\n",
       "mean              inf\n",
       "std               NaN\n",
       "min      0.000000e+00\n",
       "25%      1.660000e+00\n",
       "50%      2.726000e+00\n",
       "75%      5.150000e+00\n",
       "max               inf\n",
       "Name: rides_per_1_GH, dtype: float64"
      ]
     },
     "execution_count": 345,
     "metadata": {},
     "output_type": "execute_result"
    }
   ],
   "source": [
    "orders_drivers_work[orders_drivers_work['churn_flag_fix'] != 1]['rides_per_1_GH'].describe()"
   ]
  },
  {
   "cell_type": "code",
   "execution_count": 344,
   "metadata": {},
   "outputs": [
    {
     "data": {
      "text/plain": [
       "count    1.381370e+05\n",
       "mean              inf\n",
       "std               NaN\n",
       "min      0.000000e+00\n",
       "25%      7.112500e-01\n",
       "50%      1.170000e+00\n",
       "75%      1.785000e+00\n",
       "max               inf\n",
       "Name: rides_per_1_GH, dtype: float64"
      ]
     },
     "execution_count": 344,
     "metadata": {},
     "output_type": "execute_result"
    }
   ],
   "source": [
    "orders_drivers_work[orders_drivers_work['churn_flag_fix'] == 1]['rides_per_1_GH'].describe()"
   ]
  },
  {
   "cell_type": "code",
   "execution_count": null,
   "metadata": {
    "collapsed": true
   },
   "outputs": [],
   "source": []
  },
  {
   "cell_type": "code",
   "execution_count": null,
   "metadata": {
    "collapsed": true
   },
   "outputs": [],
   "source": [
    "window_split = '2017-09-23 00:00:00'\n",
    "\n",
    "train_dataset = orders_drivers_work[(orders_drivers_work['order_datetime'] < window_split) &\\\n",
    "                                    (orders_drivers_work['driver_gk'] != 2561)].copy()"
   ]
  },
  {
   "cell_type": "code",
   "execution_count": null,
   "metadata": {
    "collapsed": true
   },
   "outputs": [],
   "source": []
  },
  {
   "cell_type": "code",
   "execution_count": null,
   "metadata": {
    "collapsed": true
   },
   "outputs": [],
   "source": []
  },
  {
   "cell_type": "code",
   "execution_count": null,
   "metadata": {
    "collapsed": true
   },
   "outputs": [],
   "source": [
    "Utilization\n",
    "How driver is utilized with our business\n",
    "(a) Rides per 1 GH\n",
    "(b) % time in ride in 1 GH"
   ]
  },
  {
   "cell_type": "code",
   "execution_count": null,
   "metadata": {
    "collapsed": true
   },
   "outputs": [],
   "source": [
    "'session_total_rank',\n",
    "       'session_completed_rank', 'session_cancelled_rank',\n",
    "       'session_rejected_rank'"
   ]
  },
  {
   "cell_type": "code",
   "execution_count": null,
   "metadata": {
    "collapsed": true
   },
   "outputs": [],
   "source": []
  },
  {
   "cell_type": "code",
   "execution_count": null,
   "metadata": {
    "collapsed": true
   },
   "outputs": [],
   "source": []
  },
  {
   "cell_type": "markdown",
   "metadata": {},
   "source": [
    "# Baseline"
   ]
  },
  {
   "cell_type": "code",
   "execution_count": 192,
   "metadata": {
    "collapsed": true
   },
   "outputs": [],
   "source": [
    "temp = pd.DataFrame(train_dataset.groupby('driver_gk')['churn_flag_fix'].mean())\\\n",
    "         .rename(columns={'churn_flag_fix': 'mean_reject'})\n",
    "temp.reset_index(inplace=True)\n",
    "orders_drivers_work= orders_drivers_work.merge(temp, how='left', on='driver_gk')"
   ]
  },
  {
   "cell_type": "code",
   "execution_count": 195,
   "metadata": {
    "collapsed": true
   },
   "outputs": [],
   "source": []
  },
  {
   "cell_type": "code",
   "execution_count": 350,
   "metadata": {},
   "outputs": [
    {
     "data": {
      "text/plain": [
       "0.67416151506138111"
      ]
     },
     "execution_count": 350,
     "metadata": {},
     "output_type": "execute_result"
    }
   ],
   "source": [
    "roc_auc_score(train_dataset['churn_flag_fix'], train_dataset['mean_reject'])"
   ]
  },
  {
   "cell_type": "code",
   "execution_count": null,
   "metadata": {
    "collapsed": true
   },
   "outputs": [],
   "source": []
  },
  {
   "cell_type": "code",
   "execution_count": 169,
   "metadata": {},
   "outputs": [
    {
     "data": {
      "text/plain": [
       "count    1.270765e+06\n",
       "mean     3.430132e+03\n",
       "std      1.933318e+03\n",
       "min      0.000000e+00\n",
       "25%      2.501000e+03\n",
       "50%      2.561000e+03\n",
       "75%      4.958000e+03\n",
       "max      7.467000e+03\n",
       "Name: driver_gk, dtype: float64"
      ]
     },
     "execution_count": 169,
     "metadata": {},
     "output_type": "execute_result"
    }
   ],
   "source": [
    "orders_drivers_work['driver_gk'].describe()"
   ]
  },
  {
   "cell_type": "code",
   "execution_count": null,
   "metadata": {
    "collapsed": true
   },
   "outputs": [],
   "source": []
  },
  {
   "cell_type": "markdown",
   "metadata": {},
   "source": [
    "# xgboost"
   ]
  },
  {
   "cell_type": "code",
   "execution_count": 318,
   "metadata": {},
   "outputs": [
    {
     "data": {
      "text/plain": [
       "Index(['order_gk', 'order_datetime', 'driver_gk', 'order_status', 'class_type',\n",
       "       'rider_total_cost', 'paid_with_prepaid', 'payment_type', 'ride_type',\n",
       "       'm_ride_duration', 'ride_distance_key', 'm_driver_wait_time',\n",
       "       'm_rating', 'rider_ftp_date_key', 'rider_main_device_desc',\n",
       "       'driver_ftp_date_key', 'driver_device_platform', 'total_loyalty_points',\n",
       "       'acquisition_channel_desc', 'action_before', 'previous_action_delta',\n",
       "       'churn_flag', 'session_id', 'tmp_total_sum', 'session_total_rank',\n",
       "       'session_completed_rank', 'session_cancelled_rank',\n",
       "       'session_rejected_rank', 'action_after', 'next_action_delta',\n",
       "       'churn_flag_fix', 'class_type_code', 'ride_type_code',\n",
       "       'order_status_code', 'payment_type_code',\n",
       "       'acquisition_channel_desc_code', 'mean_reject', 'order_day_of_week',\n",
       "       'order_hour', 'total_value', 'total_ride_duration', 'mean_value_reject',\n",
       "       'total_value_bigger', 'session_time_length', 'mean_session_time_length',\n",
       "       'mean_session_time_length_bigger'],\n",
       "      dtype='object')"
      ]
     },
     "execution_count": 318,
     "metadata": {},
     "output_type": "execute_result"
    }
   ],
   "source": [
    "orders_drivers_work.columns"
   ]
  },
  {
   "cell_type": "code",
   "execution_count": 372,
   "metadata": {},
   "outputs": [
    {
     "data": {
      "text/plain": [
       "22"
      ]
     },
     "execution_count": 372,
     "metadata": {},
     "output_type": "execute_result"
    }
   ],
   "source": [
    "len(x_list)"
   ]
  },
  {
   "cell_type": "code",
   "execution_count": 346,
   "metadata": {
    "collapsed": true
   },
   "outputs": [],
   "source": [
    "x_list = ['session_total_rank', 'session_completed_rank', 'session_cancelled_rank', 'session_rejected_rank', 'class_type_code',\\\n",
    "          'ride_type_code', 'order_status_code', 'rider_total_cost', 'payment_type_code', 'paid_with_prepaid', 'driver_gk',\\\n",
    "          'mean_reject', 'order_day_of_week', 'order_hour', 'm_ride_duration', 'total_value', 'total_ride_duration', 'total_value_bigger',\\\n",
    "          'mean_session_time_length_bigger', 'session_time_length', 'session_completion_rate', 'rides_per_1_GH']"
   ]
  },
  {
   "cell_type": "code",
   "execution_count": 362,
   "metadata": {
    "collapsed": true
   },
   "outputs": [],
   "source": [
    "window_split = '2017-09-23 00:00:00'\n",
    "\n",
    "train_dataset = orders_drivers_work[(orders_drivers_work['order_datetime'] < window_split) &\\\n",
    "                                    (orders_drivers_work['driver_gk'] != 2561)].copy()\n",
    "X_test = orders_drivers_work[(orders_drivers_work['order_datetime'] >= window_split) &\\\n",
    "                             (orders_drivers_work['driver_gk'] != 2561)][x_list]\n",
    "y_test = orders_drivers_work[(orders_drivers_work['order_datetime'] >= window_split) &\\\n",
    "                             (orders_drivers_work['driver_gk'] != 2561)]['churn_flag_fix']\n",
    "\n",
    "\n",
    "X_train, X_valid, y_train, y_valid = train_test_split(train_dataset[x_list],\\\n",
    "                                                      train_dataset['churn_flag_fix'],\\\n",
    "                                                      random_state=42,\\\n",
    "                                                      test_size = 0.2,\\\n",
    "                                                      stratify = train_dataset['churn_flag_fix'])\n",
    "\n",
    "dtrain = xgb.DMatrix( X_train, label=y_train)\n",
    "dvalid = xgb.DMatrix( X_valid, label=y_valid)\n",
    "dtest = xgb.DMatrix( X_test, label=y_test)"
   ]
  },
  {
   "cell_type": "code",
   "execution_count": 389,
   "metadata": {},
   "outputs": [
    {
     "name": "stdout",
     "output_type": "stream",
     "text": [
      "Classes distribution train:\n",
      " 1 - 91237, 0.151144  \n",
      " 0 - 512404, 0.848856\n",
      "Classes distribution validation:\n",
      " 1 - 22809, 0.151142  \n",
      " 0 - 128102, 0.848858\n",
      "Classes distribution test:\n",
      " 1 - 26240, 0.139193  \n",
      " 0 - 162275, 0.860807\n"
     ]
    }
   ],
   "source": [
    "print('Classes distribution train:\\n 1 - %d, %f  \\n 0 - %d, %f'%(y_train.value_counts()[1],\\\n",
    "                                                                y_train.value_counts()[1]/y_train.count(),\\\n",
    "                                                                y_train.value_counts()[0],\\\n",
    "                                                                y_train.value_counts()[0]/y_train.count())) \n",
    "\n",
    "print('Classes distribution validation:\\n 1 - %d, %f  \\n 0 - %d, %f'%(y_valid.value_counts()[1],\\\n",
    "                                                                y_valid.value_counts()[1]/y_valid.count(),\\\n",
    "                                                                y_valid.value_counts()[0],\\\n",
    "                                                                y_valid.value_counts()[0]/y_valid.count())) \n",
    "\n",
    "print('Classes distribution test:\\n 1 - %d, %f  \\n 0 - %d, %f'%(y_test.value_counts()[1],\\\n",
    "                                                                y_test.value_counts()[1]/y_test.count(),\\\n",
    "                                                                y_test.value_counts()[0],\\\n",
    "                                                                y_test.value_counts()[0]/y_test.count())) "
   ]
  },
  {
   "cell_type": "code",
   "execution_count": 365,
   "metadata": {},
   "outputs": [
    {
     "data": {
      "text/plain": [
       "0    512404\n",
       "1     91237\n",
       "Name: churn_flag_fix, dtype: int64"
      ]
     },
     "execution_count": 365,
     "metadata": {},
     "output_type": "execute_result"
    }
   ],
   "source": [
    "y_train.value_counts()"
   ]
  },
  {
   "cell_type": "code",
   "execution_count": 366,
   "metadata": {},
   "outputs": [
    {
     "data": {
      "text/plain": [
       "0    128102\n",
       "1     22809\n",
       "Name: churn_flag_fix, dtype: int64"
      ]
     },
     "execution_count": 366,
     "metadata": {},
     "output_type": "execute_result"
    }
   ],
   "source": [
    "y_valid.value_counts()"
   ]
  },
  {
   "cell_type": "code",
   "execution_count": 367,
   "metadata": {},
   "outputs": [
    {
     "data": {
      "text/plain": [
       "0    162275\n",
       "1     26240\n",
       "Name: churn_flag_fix, dtype: int64"
      ]
     },
     "execution_count": 367,
     "metadata": {},
     "output_type": "execute_result"
    }
   ],
   "source": [
    "y_test.value_counts()"
   ]
  },
  {
   "cell_type": "code",
   "execution_count": 373,
   "metadata": {
    "scrolled": true
   },
   "outputs": [
    {
     "name": "stdout",
     "output_type": "stream",
     "text": [
      "[0]\teval-auc:0.895038\ttrain-auc:0.897541\n",
      "[1]\teval-auc:0.899218\ttrain-auc:0.901573\n",
      "[2]\teval-auc:0.90271\ttrain-auc:0.905209\n",
      "[3]\teval-auc:0.903558\ttrain-auc:0.906223\n",
      "[4]\teval-auc:0.904669\ttrain-auc:0.907716\n",
      "[5]\teval-auc:0.90548\ttrain-auc:0.908705\n",
      "[6]\teval-auc:0.906224\ttrain-auc:0.909659\n",
      "[7]\teval-auc:0.906906\ttrain-auc:0.910418\n",
      "[8]\teval-auc:0.907353\ttrain-auc:0.911124\n",
      "[9]\teval-auc:0.908023\ttrain-auc:0.911926\n",
      "[10]\teval-auc:0.908579\ttrain-auc:0.912543\n",
      "[11]\teval-auc:0.909093\ttrain-auc:0.913171\n",
      "[12]\teval-auc:0.909642\ttrain-auc:0.913762\n",
      "[13]\teval-auc:0.909952\ttrain-auc:0.914141\n",
      "[14]\teval-auc:0.910877\ttrain-auc:0.915267\n",
      "[15]\teval-auc:0.911868\ttrain-auc:0.916454\n",
      "[16]\teval-auc:0.912199\ttrain-auc:0.916822\n",
      "[17]\teval-auc:0.913236\ttrain-auc:0.917924\n",
      "[18]\teval-auc:0.913514\ttrain-auc:0.918299\n",
      "[19]\teval-auc:0.913747\ttrain-auc:0.918529\n",
      "[20]\teval-auc:0.913996\ttrain-auc:0.918888\n",
      "[21]\teval-auc:0.914144\ttrain-auc:0.91908\n",
      "[22]\teval-auc:0.914857\ttrain-auc:0.919895\n",
      "[23]\teval-auc:0.915192\ttrain-auc:0.920295\n",
      "[24]\teval-auc:0.915329\ttrain-auc:0.920559\n",
      "[25]\teval-auc:0.91556\ttrain-auc:0.920877\n",
      "[26]\teval-auc:0.91575\ttrain-auc:0.92114\n",
      "[27]\teval-auc:0.915962\ttrain-auc:0.921504\n",
      "[28]\teval-auc:0.916219\ttrain-auc:0.921835\n",
      "[29]\teval-auc:0.916474\ttrain-auc:0.922169\n",
      "[30]\teval-auc:0.916657\ttrain-auc:0.922429\n",
      "[31]\teval-auc:0.916764\ttrain-auc:0.922627\n",
      "[32]\teval-auc:0.917092\ttrain-auc:0.923019\n",
      "[33]\teval-auc:0.917165\ttrain-auc:0.923159\n",
      "[34]\teval-auc:0.917365\ttrain-auc:0.92348\n",
      "[35]\teval-auc:0.917445\ttrain-auc:0.923628\n",
      "[36]\teval-auc:0.917625\ttrain-auc:0.923862\n",
      "[37]\teval-auc:0.918472\ttrain-auc:0.924838\n",
      "[38]\teval-auc:0.918525\ttrain-auc:0.924986\n",
      "[39]\teval-auc:0.918974\ttrain-auc:0.925498\n",
      "[40]\teval-auc:0.919218\ttrain-auc:0.925813\n",
      "[41]\teval-auc:0.919303\ttrain-auc:0.925936\n",
      "[42]\teval-auc:0.919393\ttrain-auc:0.926122\n",
      "[43]\teval-auc:0.919541\ttrain-auc:0.926389\n",
      "[44]\teval-auc:0.919659\ttrain-auc:0.926612\n",
      "[45]\teval-auc:0.91981\ttrain-auc:0.926842\n",
      "[46]\teval-auc:0.920291\ttrain-auc:0.927404\n",
      "[47]\teval-auc:0.920484\ttrain-auc:0.927802\n",
      "[48]\teval-auc:0.921082\ttrain-auc:0.928494\n",
      "[49]\teval-auc:0.921223\ttrain-auc:0.928687\n"
     ]
    }
   ],
   "source": [
    "param = {'max_depth':9, 'min_child_weight': 5, 'eta':0.1, 'subsample': 0.8, 'alpha': 0.1, 'silent':1,\\\n",
    "         'objective':'binary:logistic', 'eval_metric': 'auc'}\n",
    "evallist  = [(dvalid,'eval'), (dtrain,'train')]\n",
    "plst = param.items()\n",
    "num_round = 50\n",
    "\n",
    "bst = xgb.train( plst, dtrain, num_round, evallist )"
   ]
  },
  {
   "cell_type": "code",
   "execution_count": 371,
   "metadata": {},
   "outputs": [
    {
     "data": {
      "text/html": [
       "<div>\n",
       "<style>\n",
       "    .dataframe thead tr:only-child th {\n",
       "        text-align: right;\n",
       "    }\n",
       "\n",
       "    .dataframe thead th {\n",
       "        text-align: left;\n",
       "    }\n",
       "\n",
       "    .dataframe tbody tr th {\n",
       "        vertical-align: top;\n",
       "    }\n",
       "</style>\n",
       "<table border=\"1\" class=\"dataframe\">\n",
       "  <thead>\n",
       "    <tr style=\"text-align: right;\">\n",
       "      <th></th>\n",
       "      <th>feature</th>\n",
       "      <th>importance</th>\n",
       "    </tr>\n",
       "  </thead>\n",
       "  <tbody>\n",
       "    <tr>\n",
       "      <th>1</th>\n",
       "      <td>rides_per_1_GH</td>\n",
       "      <td>285</td>\n",
       "    </tr>\n",
       "    <tr>\n",
       "      <th>4</th>\n",
       "      <td>mean_reject</td>\n",
       "      <td>268</td>\n",
       "    </tr>\n",
       "    <tr>\n",
       "      <th>8</th>\n",
       "      <td>session_time_length</td>\n",
       "      <td>156</td>\n",
       "    </tr>\n",
       "    <tr>\n",
       "      <th>11</th>\n",
       "      <td>session_total_rank</td>\n",
       "      <td>124</td>\n",
       "    </tr>\n",
       "    <tr>\n",
       "      <th>14</th>\n",
       "      <td>order_hour</td>\n",
       "      <td>108</td>\n",
       "    </tr>\n",
       "    <tr>\n",
       "      <th>3</th>\n",
       "      <td>total_ride_duration</td>\n",
       "      <td>78</td>\n",
       "    </tr>\n",
       "    <tr>\n",
       "      <th>0</th>\n",
       "      <td>total_value</td>\n",
       "      <td>76</td>\n",
       "    </tr>\n",
       "    <tr>\n",
       "      <th>10</th>\n",
       "      <td>rider_total_cost</td>\n",
       "      <td>72</td>\n",
       "    </tr>\n",
       "    <tr>\n",
       "      <th>6</th>\n",
       "      <td>session_completion_rate</td>\n",
       "      <td>57</td>\n",
       "    </tr>\n",
       "    <tr>\n",
       "      <th>12</th>\n",
       "      <td>session_cancelled_rank</td>\n",
       "      <td>53</td>\n",
       "    </tr>\n",
       "    <tr>\n",
       "      <th>15</th>\n",
       "      <td>mean_session_time_length_bigger</td>\n",
       "      <td>42</td>\n",
       "    </tr>\n",
       "    <tr>\n",
       "      <th>13</th>\n",
       "      <td>total_value_bigger</td>\n",
       "      <td>35</td>\n",
       "    </tr>\n",
       "    <tr>\n",
       "      <th>5</th>\n",
       "      <td>order_day_of_week</td>\n",
       "      <td>33</td>\n",
       "    </tr>\n",
       "    <tr>\n",
       "      <th>2</th>\n",
       "      <td>m_ride_duration</td>\n",
       "      <td>22</td>\n",
       "    </tr>\n",
       "    <tr>\n",
       "      <th>7</th>\n",
       "      <td>driver_gk</td>\n",
       "      <td>7</td>\n",
       "    </tr>\n",
       "    <tr>\n",
       "      <th>9</th>\n",
       "      <td>payment_type_code</td>\n",
       "      <td>2</td>\n",
       "    </tr>\n",
       "  </tbody>\n",
       "</table>\n",
       "</div>"
      ],
      "text/plain": [
       "                            feature  importance\n",
       "1                    rides_per_1_GH         285\n",
       "4                       mean_reject         268\n",
       "8               session_time_length         156\n",
       "11               session_total_rank         124\n",
       "14                       order_hour         108\n",
       "3               total_ride_duration          78\n",
       "0                       total_value          76\n",
       "10                 rider_total_cost          72\n",
       "6           session_completion_rate          57\n",
       "12           session_cancelled_rank          53\n",
       "15  mean_session_time_length_bigger          42\n",
       "13               total_value_bigger          35\n",
       "5                 order_day_of_week          33\n",
       "2                   m_ride_duration          22\n",
       "7                         driver_gk           7\n",
       "9                 payment_type_code           2"
      ]
     },
     "execution_count": 371,
     "metadata": {},
     "output_type": "execute_result"
    }
   ],
   "source": [
    "# score признаков модели\n",
    "df_score = pd.DataFrame(list(bst.get_fscore().items()), columns=['feature','importance']).\\\n",
    "               sort_values('importance', ascending=False)\n",
    "df_score.head(20)"
   ]
  },
  {
   "cell_type": "code",
   "execution_count": 374,
   "metadata": {},
   "outputs": [
    {
     "data": {
      "text/plain": [
       "0.88706549429604231"
      ]
     },
     "execution_count": 374,
     "metadata": {},
     "output_type": "execute_result"
    }
   ],
   "source": [
    "roc_auc_score(y_test, bst.predict(dtest))"
   ]
  },
  {
   "cell_type": "code",
   "execution_count": 273,
   "metadata": {},
   "outputs": [
    {
     "data": {
      "text/html": [
       "<div>\n",
       "<style>\n",
       "    .dataframe thead tr:only-child th {\n",
       "        text-align: right;\n",
       "    }\n",
       "\n",
       "    .dataframe thead th {\n",
       "        text-align: left;\n",
       "    }\n",
       "\n",
       "    .dataframe tbody tr th {\n",
       "        vertical-align: top;\n",
       "    }\n",
       "</style>\n",
       "<table border=\"1\" class=\"dataframe\">\n",
       "  <thead>\n",
       "    <tr style=\"text-align: right;\">\n",
       "      <th></th>\n",
       "      <th>session_total_rank</th>\n",
       "      <th>session_completed_rank</th>\n",
       "      <th>session_cancelled_rank</th>\n",
       "      <th>session_rejected_rank</th>\n",
       "      <th>class_type_code</th>\n",
       "      <th>ride_type_code</th>\n",
       "      <th>order_status_code</th>\n",
       "      <th>rider_total_cost</th>\n",
       "      <th>payment_type_code</th>\n",
       "      <th>paid_with_prepaid</th>\n",
       "      <th>driver_gk</th>\n",
       "      <th>mean_reject</th>\n",
       "      <th>order_day_of_week</th>\n",
       "      <th>order_hour</th>\n",
       "      <th>m_ride_duration</th>\n",
       "      <th>total_value</th>\n",
       "      <th>total_ride_duration</th>\n",
       "      <th>total_value_bigger</th>\n",
       "    </tr>\n",
       "  </thead>\n",
       "  <tbody>\n",
       "    <tr>\n",
       "      <th>count</th>\n",
       "      <td>528186.000000</td>\n",
       "      <td>528186.000000</td>\n",
       "      <td>528186.000000</td>\n",
       "      <td>528186.000000</td>\n",
       "      <td>528186.000000</td>\n",
       "      <td>528186.000000</td>\n",
       "      <td>528186.000000</td>\n",
       "      <td>494810.000000</td>\n",
       "      <td>528186.000000</td>\n",
       "      <td>20919.000000</td>\n",
       "      <td>528186.000000</td>\n",
       "      <td>528186.000000</td>\n",
       "      <td>528186.000000</td>\n",
       "      <td>528186.000000</td>\n",
       "      <td>444837.000000</td>\n",
       "      <td>494810.000000</td>\n",
       "      <td>444837.000000</td>\n",
       "      <td>528186.000000</td>\n",
       "    </tr>\n",
       "    <tr>\n",
       "      <th>mean</th>\n",
       "      <td>6.106752</td>\n",
       "      <td>5.042430</td>\n",
       "      <td>1.064114</td>\n",
       "      <td>0.000208</td>\n",
       "      <td>1.644601</td>\n",
       "      <td>2.874461</td>\n",
       "      <td>0.841584</td>\n",
       "      <td>491.351781</td>\n",
       "      <td>0.897951</td>\n",
       "      <td>209.482224</td>\n",
       "      <td>3730.149375</td>\n",
       "      <td>0.151183</td>\n",
       "      <td>3.097770</td>\n",
       "      <td>13.805239</td>\n",
       "      <td>1659.203207</td>\n",
       "      <td>2532.761347</td>\n",
       "      <td>8155.574878</td>\n",
       "      <td>0.715971</td>\n",
       "    </tr>\n",
       "    <tr>\n",
       "      <th>std</th>\n",
       "      <td>6.056158</td>\n",
       "      <td>5.057317</td>\n",
       "      <td>1.708822</td>\n",
       "      <td>0.014430</td>\n",
       "      <td>1.523286</td>\n",
       "      <td>0.339787</td>\n",
       "      <td>0.365234</td>\n",
       "      <td>516.019923</td>\n",
       "      <td>0.574020</td>\n",
       "      <td>229.798102</td>\n",
       "      <td>2164.876142</td>\n",
       "      <td>0.082830</td>\n",
       "      <td>1.893072</td>\n",
       "      <td>6.393551</td>\n",
       "      <td>1338.987650</td>\n",
       "      <td>2557.017350</td>\n",
       "      <td>7926.298484</td>\n",
       "      <td>0.450951</td>\n",
       "    </tr>\n",
       "    <tr>\n",
       "      <th>min</th>\n",
       "      <td>1.000000</td>\n",
       "      <td>0.000000</td>\n",
       "      <td>0.000000</td>\n",
       "      <td>0.000000</td>\n",
       "      <td>0.000000</td>\n",
       "      <td>0.000000</td>\n",
       "      <td>0.000000</td>\n",
       "      <td>0.000000</td>\n",
       "      <td>0.000000</td>\n",
       "      <td>1.000000</td>\n",
       "      <td>0.000000</td>\n",
       "      <td>0.000000</td>\n",
       "      <td>0.000000</td>\n",
       "      <td>0.000000</td>\n",
       "      <td>0.000000</td>\n",
       "      <td>0.000000</td>\n",
       "      <td>0.000000</td>\n",
       "      <td>0.000000</td>\n",
       "    </tr>\n",
       "    <tr>\n",
       "      <th>25%</th>\n",
       "      <td>2.000000</td>\n",
       "      <td>2.000000</td>\n",
       "      <td>0.000000</td>\n",
       "      <td>0.000000</td>\n",
       "      <td>0.000000</td>\n",
       "      <td>3.000000</td>\n",
       "      <td>1.000000</td>\n",
       "      <td>224.580000</td>\n",
       "      <td>1.000000</td>\n",
       "      <td>100.000000</td>\n",
       "      <td>1858.000000</td>\n",
       "      <td>0.090090</td>\n",
       "      <td>1.000000</td>\n",
       "      <td>9.000000</td>\n",
       "      <td>770.000000</td>\n",
       "      <td>894.910000</td>\n",
       "      <td>2926.000000</td>\n",
       "      <td>0.000000</td>\n",
       "    </tr>\n",
       "    <tr>\n",
       "      <th>50%</th>\n",
       "      <td>4.000000</td>\n",
       "      <td>4.000000</td>\n",
       "      <td>1.000000</td>\n",
       "      <td>0.000000</td>\n",
       "      <td>2.000000</td>\n",
       "      <td>3.000000</td>\n",
       "      <td>1.000000</td>\n",
       "      <td>390.680000</td>\n",
       "      <td>1.000000</td>\n",
       "      <td>150.000000</td>\n",
       "      <td>3736.000000</td>\n",
       "      <td>0.133333</td>\n",
       "      <td>3.000000</td>\n",
       "      <td>15.000000</td>\n",
       "      <td>1351.000000</td>\n",
       "      <td>1864.285000</td>\n",
       "      <td>6040.000000</td>\n",
       "      <td>1.000000</td>\n",
       "    </tr>\n",
       "    <tr>\n",
       "      <th>75%</th>\n",
       "      <td>8.000000</td>\n",
       "      <td>7.000000</td>\n",
       "      <td>1.000000</td>\n",
       "      <td>0.000000</td>\n",
       "      <td>3.000000</td>\n",
       "      <td>3.000000</td>\n",
       "      <td>1.000000</td>\n",
       "      <td>627.385000</td>\n",
       "      <td>1.000000</td>\n",
       "      <td>230.000000</td>\n",
       "      <td>5609.000000</td>\n",
       "      <td>0.194175</td>\n",
       "      <td>5.000000</td>\n",
       "      <td>19.000000</td>\n",
       "      <td>2178.000000</td>\n",
       "      <td>3376.270000</td>\n",
       "      <td>10998.000000</td>\n",
       "      <td>1.000000</td>\n",
       "    </tr>\n",
       "    <tr>\n",
       "      <th>max</th>\n",
       "      <td>140.000000</td>\n",
       "      <td>120.000000</td>\n",
       "      <td>64.000000</td>\n",
       "      <td>1.000000</td>\n",
       "      <td>7.000000</td>\n",
       "      <td>3.000000</td>\n",
       "      <td>2.000000</td>\n",
       "      <td>66810.170000</td>\n",
       "      <td>2.000000</td>\n",
       "      <td>17307.000000</td>\n",
       "      <td>7467.000000</td>\n",
       "      <td>0.761905</td>\n",
       "      <td>6.000000</td>\n",
       "      <td>23.000000</td>\n",
       "      <td>35974.000000</td>\n",
       "      <td>70775.410000</td>\n",
       "      <td>196764.000000</td>\n",
       "      <td>1.000000</td>\n",
       "    </tr>\n",
       "  </tbody>\n",
       "</table>\n",
       "</div>"
      ],
      "text/plain": [
       "       session_total_rank  session_completed_rank  session_cancelled_rank  \\\n",
       "count       528186.000000           528186.000000           528186.000000   \n",
       "mean             6.106752                5.042430                1.064114   \n",
       "std              6.056158                5.057317                1.708822   \n",
       "min              1.000000                0.000000                0.000000   \n",
       "25%              2.000000                2.000000                0.000000   \n",
       "50%              4.000000                4.000000                1.000000   \n",
       "75%              8.000000                7.000000                1.000000   \n",
       "max            140.000000              120.000000               64.000000   \n",
       "\n",
       "       session_rejected_rank  class_type_code  ride_type_code  \\\n",
       "count          528186.000000    528186.000000   528186.000000   \n",
       "mean                0.000208         1.644601        2.874461   \n",
       "std                 0.014430         1.523286        0.339787   \n",
       "min                 0.000000         0.000000        0.000000   \n",
       "25%                 0.000000         0.000000        3.000000   \n",
       "50%                 0.000000         2.000000        3.000000   \n",
       "75%                 0.000000         3.000000        3.000000   \n",
       "max                 1.000000         7.000000        3.000000   \n",
       "\n",
       "       order_status_code  rider_total_cost  payment_type_code  \\\n",
       "count      528186.000000     494810.000000      528186.000000   \n",
       "mean            0.841584        491.351781           0.897951   \n",
       "std             0.365234        516.019923           0.574020   \n",
       "min             0.000000          0.000000           0.000000   \n",
       "25%             1.000000        224.580000           1.000000   \n",
       "50%             1.000000        390.680000           1.000000   \n",
       "75%             1.000000        627.385000           1.000000   \n",
       "max             2.000000      66810.170000           2.000000   \n",
       "\n",
       "       paid_with_prepaid      driver_gk    mean_reject  order_day_of_week  \\\n",
       "count       20919.000000  528186.000000  528186.000000      528186.000000   \n",
       "mean          209.482224    3730.149375       0.151183           3.097770   \n",
       "std           229.798102    2164.876142       0.082830           1.893072   \n",
       "min             1.000000       0.000000       0.000000           0.000000   \n",
       "25%           100.000000    1858.000000       0.090090           1.000000   \n",
       "50%           150.000000    3736.000000       0.133333           3.000000   \n",
       "75%           230.000000    5609.000000       0.194175           5.000000   \n",
       "max         17307.000000    7467.000000       0.761905           6.000000   \n",
       "\n",
       "          order_hour  m_ride_duration    total_value  total_ride_duration  \\\n",
       "count  528186.000000    444837.000000  494810.000000        444837.000000   \n",
       "mean       13.805239      1659.203207    2532.761347          8155.574878   \n",
       "std         6.393551      1338.987650    2557.017350          7926.298484   \n",
       "min         0.000000         0.000000       0.000000             0.000000   \n",
       "25%         9.000000       770.000000     894.910000          2926.000000   \n",
       "50%        15.000000      1351.000000    1864.285000          6040.000000   \n",
       "75%        19.000000      2178.000000    3376.270000         10998.000000   \n",
       "max        23.000000     35974.000000   70775.410000        196764.000000   \n",
       "\n",
       "       total_value_bigger  \n",
       "count       528186.000000  \n",
       "mean             0.715971  \n",
       "std              0.450951  \n",
       "min              0.000000  \n",
       "25%              0.000000  \n",
       "50%              1.000000  \n",
       "75%              1.000000  \n",
       "max              1.000000  "
      ]
     },
     "execution_count": 273,
     "metadata": {},
     "output_type": "execute_result"
    }
   ],
   "source": [
    "X_train.describe()"
   ]
  },
  {
   "cell_type": "code",
   "execution_count": null,
   "metadata": {
    "collapsed": true
   },
   "outputs": [],
   "source": []
  },
  {
   "cell_type": "code",
   "execution_count": 159,
   "metadata": {},
   "outputs": [
    {
     "data": {
      "text/html": [
       "<div>\n",
       "<style>\n",
       "    .dataframe thead tr:only-child th {\n",
       "        text-align: right;\n",
       "    }\n",
       "\n",
       "    .dataframe thead th {\n",
       "        text-align: left;\n",
       "    }\n",
       "\n",
       "    .dataframe tbody tr th {\n",
       "        vertical-align: top;\n",
       "    }\n",
       "</style>\n",
       "<table border=\"1\" class=\"dataframe\">\n",
       "  <thead>\n",
       "    <tr style=\"text-align: right;\">\n",
       "      <th></th>\n",
       "      <th>count</th>\n",
       "      <th>mean</th>\n",
       "      <th>std</th>\n",
       "      <th>min</th>\n",
       "      <th>25%</th>\n",
       "      <th>50%</th>\n",
       "      <th>75%</th>\n",
       "      <th>max</th>\n",
       "    </tr>\n",
       "    <tr>\n",
       "      <th>churn_flag_fix</th>\n",
       "      <th></th>\n",
       "      <th></th>\n",
       "      <th></th>\n",
       "      <th></th>\n",
       "      <th></th>\n",
       "      <th></th>\n",
       "      <th></th>\n",
       "      <th></th>\n",
       "    </tr>\n",
       "  </thead>\n",
       "  <tbody>\n",
       "    <tr>\n",
       "      <th>0</th>\n",
       "      <td>640506.0</td>\n",
       "      <td>6.051395</td>\n",
       "      <td>6.160408</td>\n",
       "      <td>1.0</td>\n",
       "      <td>2.0</td>\n",
       "      <td>4.0</td>\n",
       "      <td>8.0</td>\n",
       "      <td>139.0</td>\n",
       "    </tr>\n",
       "    <tr>\n",
       "      <th>1</th>\n",
       "      <td>114046.0</td>\n",
       "      <td>6.458192</td>\n",
       "      <td>5.530466</td>\n",
       "      <td>1.0</td>\n",
       "      <td>3.0</td>\n",
       "      <td>5.0</td>\n",
       "      <td>9.0</td>\n",
       "      <td>140.0</td>\n",
       "    </tr>\n",
       "  </tbody>\n",
       "</table>\n",
       "</div>"
      ],
      "text/plain": [
       "                   count      mean       std  min  25%  50%  75%    max\n",
       "churn_flag_fix                                                         \n",
       "0               640506.0  6.051395  6.160408  1.0  2.0  4.0  8.0  139.0\n",
       "1               114046.0  6.458192  5.530466  1.0  3.0  5.0  9.0  140.0"
      ]
     },
     "execution_count": 159,
     "metadata": {},
     "output_type": "execute_result"
    }
   ],
   "source": [
    "train_dataset.groupby(['churn_flag_fix'])['session_total_rank'].describe()"
   ]
  },
  {
   "cell_type": "code",
   "execution_count": 160,
   "metadata": {},
   "outputs": [
    {
     "data": {
      "text/html": [
       "<div>\n",
       "<style>\n",
       "    .dataframe thead tr:only-child th {\n",
       "        text-align: right;\n",
       "    }\n",
       "\n",
       "    .dataframe thead th {\n",
       "        text-align: left;\n",
       "    }\n",
       "\n",
       "    .dataframe tbody tr th {\n",
       "        vertical-align: top;\n",
       "    }\n",
       "</style>\n",
       "<table border=\"1\" class=\"dataframe\">\n",
       "  <thead>\n",
       "    <tr style=\"text-align: right;\">\n",
       "      <th></th>\n",
       "      <th>count</th>\n",
       "      <th>mean</th>\n",
       "      <th>std</th>\n",
       "      <th>min</th>\n",
       "      <th>25%</th>\n",
       "      <th>50%</th>\n",
       "      <th>75%</th>\n",
       "      <th>max</th>\n",
       "    </tr>\n",
       "    <tr>\n",
       "      <th>churn_flag_fix</th>\n",
       "      <th></th>\n",
       "      <th></th>\n",
       "      <th></th>\n",
       "      <th></th>\n",
       "      <th></th>\n",
       "      <th></th>\n",
       "      <th></th>\n",
       "      <th></th>\n",
       "    </tr>\n",
       "  </thead>\n",
       "  <tbody>\n",
       "    <tr>\n",
       "      <th>0</th>\n",
       "      <td>640506.0</td>\n",
       "      <td>4.978117</td>\n",
       "      <td>5.142074</td>\n",
       "      <td>0.0</td>\n",
       "      <td>2.0</td>\n",
       "      <td>4.0</td>\n",
       "      <td>7.0</td>\n",
       "      <td>120.0</td>\n",
       "    </tr>\n",
       "    <tr>\n",
       "      <th>1</th>\n",
       "      <td>114046.0</td>\n",
       "      <td>5.434763</td>\n",
       "      <td>4.642221</td>\n",
       "      <td>0.0</td>\n",
       "      <td>2.0</td>\n",
       "      <td>4.0</td>\n",
       "      <td>7.0</td>\n",
       "      <td>118.0</td>\n",
       "    </tr>\n",
       "  </tbody>\n",
       "</table>\n",
       "</div>"
      ],
      "text/plain": [
       "                   count      mean       std  min  25%  50%  75%    max\n",
       "churn_flag_fix                                                         \n",
       "0               640506.0  4.978117  5.142074  0.0  2.0  4.0  7.0  120.0\n",
       "1               114046.0  5.434763  4.642221  0.0  2.0  4.0  7.0  118.0"
      ]
     },
     "execution_count": 160,
     "metadata": {},
     "output_type": "execute_result"
    }
   ],
   "source": [
    "train_dataset.groupby(['churn_flag_fix'])['session_completed_rank'].describe()"
   ]
  },
  {
   "cell_type": "code",
   "execution_count": 161,
   "metadata": {},
   "outputs": [
    {
     "data": {
      "text/html": [
       "<div>\n",
       "<style>\n",
       "    .dataframe thead tr:only-child th {\n",
       "        text-align: right;\n",
       "    }\n",
       "\n",
       "    .dataframe thead th {\n",
       "        text-align: left;\n",
       "    }\n",
       "\n",
       "    .dataframe tbody tr th {\n",
       "        vertical-align: top;\n",
       "    }\n",
       "</style>\n",
       "<table border=\"1\" class=\"dataframe\">\n",
       "  <thead>\n",
       "    <tr style=\"text-align: right;\">\n",
       "      <th></th>\n",
       "      <th>count</th>\n",
       "      <th>mean</th>\n",
       "      <th>std</th>\n",
       "      <th>min</th>\n",
       "      <th>25%</th>\n",
       "      <th>50%</th>\n",
       "      <th>75%</th>\n",
       "      <th>max</th>\n",
       "    </tr>\n",
       "    <tr>\n",
       "      <th>churn_flag_fix</th>\n",
       "      <th></th>\n",
       "      <th></th>\n",
       "      <th></th>\n",
       "      <th></th>\n",
       "      <th></th>\n",
       "      <th></th>\n",
       "      <th></th>\n",
       "      <th></th>\n",
       "    </tr>\n",
       "  </thead>\n",
       "  <tbody>\n",
       "    <tr>\n",
       "      <th>0</th>\n",
       "      <td>640506.0</td>\n",
       "      <td>1.073078</td>\n",
       "      <td>1.725642</td>\n",
       "      <td>0.0</td>\n",
       "      <td>0.0</td>\n",
       "      <td>1.0</td>\n",
       "      <td>1.0</td>\n",
       "      <td>64.0</td>\n",
       "    </tr>\n",
       "    <tr>\n",
       "      <th>1</th>\n",
       "      <td>114046.0</td>\n",
       "      <td>1.023219</td>\n",
       "      <td>1.574002</td>\n",
       "      <td>0.0</td>\n",
       "      <td>0.0</td>\n",
       "      <td>1.0</td>\n",
       "      <td>1.0</td>\n",
       "      <td>64.0</td>\n",
       "    </tr>\n",
       "  </tbody>\n",
       "</table>\n",
       "</div>"
      ],
      "text/plain": [
       "                   count      mean       std  min  25%  50%  75%   max\n",
       "churn_flag_fix                                                        \n",
       "0               640506.0  1.073078  1.725642  0.0  0.0  1.0  1.0  64.0\n",
       "1               114046.0  1.023219  1.574002  0.0  0.0  1.0  1.0  64.0"
      ]
     },
     "execution_count": 161,
     "metadata": {},
     "output_type": "execute_result"
    }
   ],
   "source": [
    "train_dataset.groupby(['churn_flag_fix'])['session_cancelled_rank'].describe()"
   ]
  },
  {
   "cell_type": "code",
   "execution_count": 162,
   "metadata": {},
   "outputs": [
    {
     "data": {
      "text/html": [
       "<div>\n",
       "<style>\n",
       "    .dataframe thead tr:only-child th {\n",
       "        text-align: right;\n",
       "    }\n",
       "\n",
       "    .dataframe thead th {\n",
       "        text-align: left;\n",
       "    }\n",
       "\n",
       "    .dataframe tbody tr th {\n",
       "        vertical-align: top;\n",
       "    }\n",
       "</style>\n",
       "<table border=\"1\" class=\"dataframe\">\n",
       "  <thead>\n",
       "    <tr style=\"text-align: right;\">\n",
       "      <th></th>\n",
       "      <th>count</th>\n",
       "      <th>mean</th>\n",
       "      <th>std</th>\n",
       "      <th>min</th>\n",
       "      <th>25%</th>\n",
       "      <th>50%</th>\n",
       "      <th>75%</th>\n",
       "      <th>max</th>\n",
       "    </tr>\n",
       "    <tr>\n",
       "      <th>churn_flag_fix</th>\n",
       "      <th></th>\n",
       "      <th></th>\n",
       "      <th></th>\n",
       "      <th></th>\n",
       "      <th></th>\n",
       "      <th></th>\n",
       "      <th></th>\n",
       "      <th></th>\n",
       "    </tr>\n",
       "  </thead>\n",
       "  <tbody>\n",
       "    <tr>\n",
       "      <th>0</th>\n",
       "      <td>640506.0</td>\n",
       "      <td>0.00020</td>\n",
       "      <td>0.014135</td>\n",
       "      <td>0.0</td>\n",
       "      <td>0.0</td>\n",
       "      <td>0.0</td>\n",
       "      <td>0.0</td>\n",
       "      <td>1.0</td>\n",
       "    </tr>\n",
       "    <tr>\n",
       "      <th>1</th>\n",
       "      <td>114046.0</td>\n",
       "      <td>0.00021</td>\n",
       "      <td>0.014505</td>\n",
       "      <td>0.0</td>\n",
       "      <td>0.0</td>\n",
       "      <td>0.0</td>\n",
       "      <td>0.0</td>\n",
       "      <td>1.0</td>\n",
       "    </tr>\n",
       "  </tbody>\n",
       "</table>\n",
       "</div>"
      ],
      "text/plain": [
       "                   count     mean       std  min  25%  50%  75%  max\n",
       "churn_flag_fix                                                      \n",
       "0               640506.0  0.00020  0.014135  0.0  0.0  0.0  0.0  1.0\n",
       "1               114046.0  0.00021  0.014505  0.0  0.0  0.0  0.0  1.0"
      ]
     },
     "execution_count": 162,
     "metadata": {},
     "output_type": "execute_result"
    }
   ],
   "source": [
    "train_dataset.groupby(['churn_flag_fix'])['session_rejected_rank'].describe()"
   ]
  },
  {
   "cell_type": "code",
   "execution_count": null,
   "metadata": {
    "collapsed": true
   },
   "outputs": [],
   "source": []
  },
  {
   "cell_type": "code",
   "execution_count": null,
   "metadata": {
    "collapsed": true
   },
   "outputs": [],
   "source": []
  },
  {
   "cell_type": "code",
   "execution_count": null,
   "metadata": {
    "collapsed": true
   },
   "outputs": [],
   "source": []
  },
  {
   "cell_type": "code",
   "execution_count": null,
   "metadata": {
    "collapsed": true
   },
   "outputs": [],
   "source": []
  },
  {
   "cell_type": "markdown",
   "metadata": {},
   "source": [
    "# Анализ качества модели"
   ]
  },
  {
   "cell_type": "markdown",
   "metadata": {},
   "source": [
    "## Precision/recall validation"
   ]
  },
  {
   "cell_type": "code",
   "execution_count": 323,
   "metadata": {
    "collapsed": true
   },
   "outputs": [],
   "source": [
    "#рисуем precision&recall\n",
    "y_pred = bst.predict(dvalid) \n",
    "#y_pred = 1-y_pred\n",
    "\n",
    "precision, recall, thresholds = precision_recall_curve(y_valid, y_pred)\n",
    "thresholds = np.append(thresholds, [1])"
   ]
  },
  {
   "cell_type": "code",
   "execution_count": 324,
   "metadata": {},
   "outputs": [
    {
     "data": {
      "text/plain": [
       "<matplotlib.text.Text at 0x7f24059a5c50>"
      ]
     },
     "execution_count": 324,
     "metadata": {},
     "output_type": "execute_result"
    },
    {
     "name": "stderr",
     "output_type": "stream",
     "text": [
      "/opt/anaconda3/lib/python3.5/site-packages/matplotlib/font_manager.py:1297: UserWarning: findfont: Font family ['sans-serif'] not found. Falling back to DejaVu Sans\n",
      "  (prop.get_family(), self.defaultFamily[fontext]))\n"
     ]
    },
    {
     "data": {
      "image/png": "[encoded data removed]",
      "text/plain": [
       "<matplotlib.figure.Figure at 0x7f24059770b8>"
      ]
     },
     "metadata": {},
     "output_type": "display_data"
    }
   ],
   "source": [
    "average_precision = average_precision_score(y_valid, y_pred)\n",
    "\n",
    "fig = plt.figure(figsize=(9,5))\n",
    "#plt.step(recall, precision, color='b', alpha=0.2, where='post')\n",
    "#plt.fill_between(recall, precision, step='post', alpha=0.2, color='b')\n",
    "plt.plot(recall, precision, alpha=0.2, color='b')\n",
    "plt.xlabel('Recall')\n",
    "plt.ylabel('Precision')\n",
    "plt.ylim([0.0, 1.05])\n",
    "plt.xlim([0.0, 1.0])\n",
    "plt.title('2-class Validation Precision-Recall curve: average_precision={0:0.2f}'.format(average_precision))"
   ]
  },
  {
   "cell_type": "code",
   "execution_count": 375,
   "metadata": {},
   "outputs": [
    {
     "name": "stderr",
     "output_type": "stream",
     "text": [
      "/opt/anaconda3/lib/python3.5/site-packages/matplotlib/font_manager.py:1297: UserWarning: findfont: Font family ['sans-serif'] not found. Falling back to DejaVu Sans\n",
      "  (prop.get_family(), self.defaultFamily[fontext]))\n"
     ]
    },
    {
     "data": {
      "image/png": "[encoded data removed]",
      "text/plain": [
       "<matplotlib.figure.Figure at 0x7f24057f82e8>"
      ]
     },
     "metadata": {},
     "output_type": "display_data"
    }
   ],
   "source": [
    "fig = plt.figure(figsize=(16,9))\n",
    "plt.plot(thresholds, precision, alpha=0.2, label='precision', color='r') # precision\n",
    "plt.plot(thresholds, recall, alpha=0.2, label='recall', color='b') # recall\n",
    "plt.xlabel('thresholds')\n",
    "plt.ylabel('percentage')\n",
    "plt.ylim([0.0, 1.05])\n",
    "plt.xlim([0.0, 1.0])\n",
    "plt.title('2-class Validation Precision-Recall curve: average_precision={0:0.2f}'.format(average_precision))\n",
    "plt.legend(bbox_to_anchor=(1.05, 1), loc=2, borderaxespad=0.)\n",
    "plt.show()"
   ]
  },
  {
   "cell_type": "code",
   "execution_count": null,
   "metadata": {
    "collapsed": true
   },
   "outputs": [],
   "source": []
  },
  {
   "cell_type": "markdown",
   "metadata": {},
   "source": [
    "## Precision/recall test"
   ]
  },
  {
   "cell_type": "code",
   "execution_count": 326,
   "metadata": {
    "collapsed": true
   },
   "outputs": [],
   "source": [
    "#рисуем precision&recall\n",
    "y_pred = bst.predict(dtest) \n",
    "#y_pred = 1-y_pred\n",
    "\n",
    "precision, recall, thresholds = precision_recall_curve(y_test, y_pred)\n",
    "thresholds = np.append(thresholds, [1])"
   ]
  },
  {
   "cell_type": "code",
   "execution_count": 327,
   "metadata": {},
   "outputs": [
    {
     "data": {
      "text/plain": [
       "<matplotlib.text.Text at 0x7f24058934e0>"
      ]
     },
     "execution_count": 327,
     "metadata": {},
     "output_type": "execute_result"
    },
    {
     "name": "stderr",
     "output_type": "stream",
     "text": [
      "/opt/anaconda3/lib/python3.5/site-packages/matplotlib/font_manager.py:1297: UserWarning: findfont: Font family ['sans-serif'] not found. Falling back to DejaVu Sans\n",
      "  (prop.get_family(), self.defaultFamily[fontext]))\n"
     ]
    },
    {
     "data": {
      "image/png": "[encoded data removed]",
      "text/plain": [
       "<matplotlib.figure.Figure at 0x7f24074e4278>"
      ]
     },
     "metadata": {},
     "output_type": "display_data"
    }
   ],
   "source": [
    "average_precision = average_precision_score(y_test, y_pred)\n",
    "\n",
    "fig = plt.figure(figsize=(9,5))\n",
    "#plt.step(recall, precision, color='b', alpha=0.2, where='post')\n",
    "#plt.fill_between(recall, precision, step='post', alpha=0.2, color='b')\n",
    "plt.plot(recall, precision, alpha=0.2, color='b')\n",
    "plt.xlabel('Recall')\n",
    "plt.ylabel('Precision')\n",
    "plt.ylim([0.0, 1.05])\n",
    "plt.xlim([0.0, 1.0])\n",
    "FONT_SIZE = 28\n",
    "plt.rc('font', size=FONT_SIZE)\n",
    "plt.rc('axes', titlesize=FONT_SIZE)plt.title('2-class Test Precision-Recall curve: average_precision={0:0.2f}'.format(average_precision))"
   ]
  },
  {
   "cell_type": "code",
   "execution_count": 388,
   "metadata": {},
   "outputs": [
    {
     "name": "stderr",
     "output_type": "stream",
     "text": [
      "/opt/anaconda3/lib/python3.5/site-packages/matplotlib/font_manager.py:1297: UserWarning: findfont: Font family ['sans-serif'] not found. Falling back to DejaVu Sans\n",
      "  (prop.get_family(), self.defaultFamily[fontext]))\n"
     ]
    },
    {
     "data": {
      "image/png": "[encoded data removed]",
      "text/plain": [
       "<matplotlib.figure.Figure at 0x7f23f6f2f240>"
      ]
     },
     "metadata": {},
     "output_type": "display_data"
    }
   ],
   "source": [
    "FONT_SIZE = 20\n",
    "plt.rc('font', size=FONT_SIZE)\n",
    "plt.rc('axes', titlesize=FONT_SIZE)\n",
    "\n",
    "FONT_SIZE = 14\n",
    "plt.rc('xtick', labelsize=FONT_SIZE) \n",
    "plt.rc('ytick', labelsize=FONT_SIZE)\n",
    "\n",
    "fig = plt.figure(figsize=(16,9))\n",
    "\n",
    "plt.plot(thresholds, precision, alpha=0.2, label='precision', color='r') # precision\n",
    "plt.plot(thresholds, recall, alpha=0.2, label='recall', color='b') # recall\n",
    "plt.xlabel('thresholds', fontsize=14)\n",
    "plt.ylabel('percentage', fontsize=14)\n",
    "plt.ylim([0.0, 1.05])\n",
    "plt.xlim([0.0, 1.0])\n",
    "plt.title('2-class Test Precision-Recall curve: average_precision={0:0.2f}'.format(average_precision))\n",
    "plt.legend(bbox_to_anchor=(1.05, 1), loc=2, borderaxespad=0., fontsize=14)\n",
    "\n",
    "plt.show()"
   ]
  },
  {
   "cell_type": "code",
   "execution_count": null,
   "metadata": {
    "collapsed": true
   },
   "outputs": [],
   "source": []
  }
 ],
 "metadata": {
  "kernelspec": {
   "display_name": "Python [default]",
   "language": "python",
   "name": "python3"
  },
  "language_info": {
   "codemirror_mode": {
    "name": "ipython",
    "version": 3
   },
   "file_extension": ".py",
   "mimetype": "text/x-python",
   "name": "python",
   "nbconvert_exporter": "python",
   "pygments_lexer": "ipython3",
   "version": "3.5.3"
  }
 },
 "nbformat": 4,
 "nbformat_minor": 2
}
